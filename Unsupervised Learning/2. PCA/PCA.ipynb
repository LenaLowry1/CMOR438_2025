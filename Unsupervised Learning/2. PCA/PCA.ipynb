{
 "cells": [
  {
   "cell_type": "markdown",
   "id": "ad7ce243-0fa9-49f7-99c0-f6d1150e1478",
   "metadata": {},
   "source": [
    "# PCA"
   ]
  },
  {
   "cell_type": "code",
   "execution_count": 10,
   "id": "8c42896a-80c3-44c2-b7ac-f2a14e44fbb0",
   "metadata": {},
   "outputs": [],
   "source": [
    "import matplotlib.pyplot as plt\n",
    "import numpy as np\n",
    "import pandas as pd\n",
    "import seaborn as sns\n",
    "\n",
    "sns.set_theme()\n",
    "\n",
    "penguins = sns.load_dataset(\"penguins\")\n",
    "penguins = penguins.dropna()\n",
    "\n",
    "X = penguins[[\"bill_length_mm\", \"bill_depth_mm\", \"flipper_length_mm\", \"body_mass_g\"]].to_numpy()\n",
    "y = penguins.species.to_numpy()\n",
    "\n"
   ]
  },
  {
   "cell_type": "code",
   "execution_count": 4,
   "id": "ddb68aec-bc90-4db7-9c05-be493e6a32ec",
   "metadata": {},
   "outputs": [
    {
     "name": "stdout",
     "output_type": "stream",
     "text": [
      "np.shape(U) = (333, 4)\n",
      "np.shape(sigma) = (4,)\n",
      "np.shape(Vt) = (4, 4) \n",
      "\n"
     ]
    }
   ],
   "source": [
    "\n",
    "A = X - X.mean(axis = 0)\n",
    "\n",
    "U, sigma, Vt = np.linalg.svd(A, full_matrices=False)\n",
    "\n",
    "print(f\"np.shape(U) = {np.shape(U)}\")\n",
    "print(f\"np.shape(sigma) = {np.shape(sigma)}\")\n",
    "print(f\"np.shape(Vt) = {np.shape(Vt)} \\n\")"
   ]
  },
  {
   "cell_type": "code",
   "execution_count": 5,
   "id": "ff7336b7-15b0-4338-a90f-403f1d9e02e8",
   "metadata": {},
   "outputs": [
    {
     "name": "stdout",
     "output_type": "stream",
     "text": [
      "A == U * sigma_mat * Vt: True \n",
      "\n"
     ]
    }
   ],
   "source": [
    "sigma_mat = np.diag(sigma)\n",
    "print(f\"A == U * sigma_mat * Vt: {np.allclose(A, np.dot(U, np.dot(sigma_mat, Vt)))} \\n\")"
   ]
  },
  {
   "cell_type": "code",
   "execution_count": 6,
   "id": "ff332127-b131-40d1-8711-ebd45a1b545b",
   "metadata": {},
   "outputs": [],
   "source": []
  },
  {
   "cell_type": "code",
   "execution_count": null,
   "id": "b662fa25-42df-4828-8ba2-25740ccf5a10",
   "metadata": {},
   "outputs": [],
   "source": []
  }
 ],
 "metadata": {
  "kernelspec": {
   "display_name": "Python [conda env:base] *",
   "language": "python",
   "name": "conda-base-py"
  },
  "language_info": {
   "codemirror_mode": {
    "name": "ipython",
    "version": 3
   },
   "file_extension": ".py",
   "mimetype": "text/x-python",
   "name": "python",
   "nbconvert_exporter": "python",
   "pygments_lexer": "ipython3",
   "version": "3.12.7"
  }
 },
 "nbformat": 4,
 "nbformat_minor": 5
}
