{
 "cells": [
  {
   "cell_type": "markdown",
   "id": "0e13c0da-d6f3-486d-b1ef-d3f2cbac54a3",
   "metadata": {},
   "source": [
    "# The Multilayer Neural Network Model"
   ]
  },
  {
   "cell_type": "markdown",
   "id": "f8c008c1-0ad5-4177-a270-7a08aca5e8f8",
   "metadata": {},
   "source": [
    "## Part 1: Set up\n",
    "\n",
    "First we must import necessary packages and the dataset for this model, Fashion MNIST, which is simliar to the original MNIST except that it provides images of a variety of clothing items, rather than digits."
   ]
  },
  {
   "cell_type": "code",
   "execution_count": 1,
   "id": "6981864f-3034-4d52-9843-603e4073c58d",
   "metadata": {},
   "outputs": [
    {
     "name": "stdout",
     "output_type": "stream",
     "text": [
      "Downloading data from https://storage.googleapis.com/tensorflow/tf-keras-datasets/train-labels-idx1-ubyte.gz\n",
      "\u001b[1m29515/29515\u001b[0m \u001b[32m━━━━━━━━━━━━━━━━━━━━\u001b[0m\u001b[37m\u001b[0m \u001b[1m0s\u001b[0m 1us/step\n",
      "Downloading data from https://storage.googleapis.com/tensorflow/tf-keras-datasets/train-images-idx3-ubyte.gz\n",
      "\u001b[1m26421880/26421880\u001b[0m \u001b[32m━━━━━━━━━━━━━━━━━━━━\u001b[0m\u001b[37m\u001b[0m \u001b[1m1s\u001b[0m 0us/step\n",
      "Downloading data from https://storage.googleapis.com/tensorflow/tf-keras-datasets/t10k-labels-idx1-ubyte.gz\n",
      "\u001b[1m5148/5148\u001b[0m \u001b[32m━━━━━━━━━━━━━━━━━━━━\u001b[0m\u001b[37m\u001b[0m \u001b[1m0s\u001b[0m 0us/step\n",
      "Downloading data from https://storage.googleapis.com/tensorflow/tf-keras-datasets/t10k-images-idx3-ubyte.gz\n",
      "\u001b[1m4422102/4422102\u001b[0m \u001b[32m━━━━━━━━━━━━━━━━━━━━\u001b[0m\u001b[37m\u001b[0m \u001b[1m0s\u001b[0m 0us/step\n"
     ]
    }
   ],
   "source": [
    "from tensorflow import keras \n",
    "import numpy as np\n",
    "import matplotlib.pyplot as plt\n",
    "\n",
    "# Using keras module to import fashion data \n",
    "(train_X, train_y), (test_X, test_y) = keras.datasets.fashion_mnist.load_data()"
   ]
  },
  {
   "cell_type": "markdown",
   "id": "222c398a-31d7-4bd5-aa85-240a6213c1f2",
   "metadata": {},
   "source": [
    "The code below demonstrates the shape of each subset of the data. The training data, of which there are 60,000 entries, each 28 x 28 pixels, and the testing data, with 10,000 entries, each also 28 x 28 pixels."
   ]
  },
  {
   "cell_type": "code",
   "execution_count": 41,
   "id": "0f0ffd00-679a-46de-aa65-1c74cf461fb7",
   "metadata": {},
   "outputs": [
    {
     "name": "stdout",
     "output_type": "stream",
     "text": [
      "np.shape(train_X) =(60000, 28, 28)\n",
      "np.shape(test_X) = (10000, 28, 28) \n",
      "\n",
      "np.shape(train_X[0]) = (28, 28)\n",
      "np.shape(test_X[0]) = (28, 28) \n",
      "\n"
     ]
    }
   ],
   "source": [
    "print(f\"np.shape(train_X) ={np.shape(train_X)}\")\n",
    "print(f\"np.shape(test_X) = {np.shape(test_X)} \\n\")\n",
    "\n",
    "print(f\"np.shape(train_X[0]) = {np.shape(train_X[0])}\")\n",
    "print(f\"np.shape(test_X[0]) = {np.shape(test_X[0])} \\n\")\n",
    "\n",
    "# choose a random example to show the pixel values (commented out for brevity)\n",
    "# print(f\"train_X[0] = {train_X[7]}\")"
   ]
  },
  {
   "cell_type": "markdown",
   "id": "1c3c7726-d6f6-4d09-851f-8dafe80fab7b",
   "metadata": {},
   "source": [
    "Additionally, the matrix above indicates the shade of each pixel in the image, on a scale of 0-255, with lower numbers representing darker shades and higher numbers representing lighter ones."
   ]
  },
  {
   "cell_type": "markdown",
   "id": "79b82779-9de2-4ef8-9d45-0aa577a7e519",
   "metadata": {},
   "source": [
    "---\n",
    "Below is an example of the Fashion MNIST images, specifically this image is categroized as a 'pullover'."
   ]
  },
  {
   "cell_type": "code",
   "execution_count": 8,
   "id": "18effe36-e91a-4e71-aa85-d13778bce8cc",
   "metadata": {},
   "outputs": [
    {
     "name": "stdout",
     "output_type": "stream",
     "text": [
      "train_y[7] = 2 \n",
      "\n"
     ]
    },
    {
     "data": {
      "image/png": "[encoded data removed]",
      "text/plain": [
       "<Figure size 600x500 with 1 Axes>"
      ]
     },
     "metadata": {},
     "output_type": "display_data"
    }
   ],
   "source": [
    "print(f\"{train_y[7] = } \\n\")\n",
    "plt.figure(figsize=(6, 5))\n",
    "plt.imshow(train_X[7], cmap=\"gray\")\n",
    "plt.show()"
   ]
  },
  {
   "cell_type": "markdown",
   "id": "39ba6673-5812-44d1-ad21-f7451d42655a",
   "metadata": {},
   "source": [
    "### Quick Data Formatting\n",
    "\n",
    "We will now scale our data so that each pixel value is one the interval [0,1], in order to prevent any values from becoming too large and causing errors. Further, we will flatten our pixel matrices and use ```temp_vec``` to one hot encode the category of each sample. This flattening allows us to pass the information from an image (that would otherwise be in matrix form) into the first layer of the network as a column vector. Thus, each of the 784 neurons will recieve a single piece of information representing the color of a single pixel. We do the same for both the training and testing data."
   ]
  },
  {
   "cell_type": "code",
   "execution_count": 10,
   "id": "da4522d5-b152-4e1c-a28a-b455e3750112",
   "metadata": {},
   "outputs": [],
   "source": [
    "# Scaling data\n",
    "train_X = train_X / 255\n",
    "test_X = test_X / 255\n",
    "\n",
    "# Flattens images to coloumn vectors \n",
    "flttrain_X = []\n",
    "# One hot encode the training labels\n",
    "ohtrain_y = []\n",
    "\n",
    "for x, y in zip(train_X, train_y):\n",
    "    flttrain_X.append(x.flatten().reshape(784, 1))\n",
    "    temp_vec = np.zeros((10, 1))\n",
    "    temp_vec[y][0] = 1.0\n",
    "    ohtrain_y.append(temp_vec)\n",
    "   \n",
    "\n",
    "# Repeat testing data \n",
    "flttest_X = []\n",
    "ohtest_y = []\n",
    "\n",
    "for x, y in zip(test_X, test_y):\n",
    "    flttest_X.append(x.flatten().reshape(784, 1))\n",
    "    temp_vec = np.zeros((10, 1))\n",
    "    temp_vec[y] = 1.0\n",
    "    ohtest_y.append(temp_vec)\n",
    "    "
   ]
  },
  {
   "cell_type": "markdown",
   "id": "c46f4534-25d5-44cb-a021-b4f558e3d40e",
   "metadata": {},
   "source": [
    "## Part 2: Creating the Model\n",
    "\n",
    "Before we create a new class, we will first define some methods needed to carry out the more complex mathematical operations. The sigmoid function is our familiar activation function. The ```sigmoid_prime``` function (or derivative function) is required for backpropagation and the MSE function will serve as our cost function."
   ]
  },
  {
   "cell_type": "code",
   "execution_count": 22,
   "id": "e7e65899-fd15-403f-81ad-c330ac925c64",
   "metadata": {},
   "outputs": [],
   "source": [
    "def sigmoid(z):\n",
    "  return 1.0/(1.0+np.exp(-z))\n",
    "\n",
    "def sigmoid_prime(z):\n",
    "  return sigmoid(z)*(1.0-sigmoid(z))\n",
    "\n",
    "def MSE(W, B, X, y):\n",
    "    cost = 0.0\n",
    "    m = 0\n",
    "    for xi, yi in zip(X, y):\n",
    "        a = forward_pass(W, B, xi, predict_vector = True)\n",
    "        cost += mse(a, yi)\n",
    "        m+=1\n",
    "    return cost/m"
   ]
  },
  {
   "cell_type": "markdown",
   "id": "d7dbe152-cad0-448c-8170-be17a94ebda9",
   "metadata": {},
   "source": [
    "Now we create a function to initialize the weights and bias. We also have the oppurtunity to modify the default number of neurons in each layer. While 784 is needed for the first layer (as long as our images are 28 x 28), and 10 are needed for the output (to determine which of the 10 categories an item belongs to), we can manipulate the remaining two layers to find an optimal arangement."
   ]
  },
  {
   "cell_type": "code",
   "execution_count": 12,
   "id": "074abca6-8ab7-4573-b45f-d7eb0d467ab9",
   "metadata": {},
   "outputs": [],
   "source": [
    "def initialize_weights(layers = [784, 60, 60, 10]):\n",
    "  W = [[0.0]]\n",
    "  B = [[0.0]]\n",
    "  for i in range(1, len(layers)):\n",
    "    w_temp = np.random.randn(layers[i], layers[i-1])*np.sqrt(2/layers[i-1])\n",
    "    b_temp = np.random.randn(layers[i], 1)*np.sqrt(2/layers[i-1])\n",
    "\n",
    "    W.append(w_temp)\n",
    "    B.append(b_temp)\n",
    "  return W, B"
   ]
  },
  {
   "cell_type": "code",
   "execution_count": 13,
   "id": "a6ed5f38-f23c-4006-89e5-cc0aab6cf47e",
   "metadata": {},
   "outputs": [],
   "source": [
    "W, B = initialize_weights()"
   ]
  },
  {
   "cell_type": "code",
   "execution_count": 35,
   "id": "8cc2d7d0-749a-4e94-a21f-c886319fe824",
   "metadata": {},
   "outputs": [],
   "source": [
    "# initializes our input vector, and its true value\n",
    "xi = flttrain_X[0]\n",
    "yi = ohtrain_y[0]\n",
    "a0 = xi"
   ]
  },
  {
   "cell_type": "markdown",
   "id": "ee3766fd-7b88-4623-9e0e-24b5098653f1",
   "metadata": {},
   "source": [
    "Next, we define the forward pass function, which takes in initial weights, bias, and an input vector. It iterates over each layer of the network and upon reaching the end, returns the activation values of the final layer."
   ]
  },
  {
   "cell_type": "code",
   "execution_count": 36,
   "id": "8138c8fa-d6ec-4842-94f7-2dc15a420cab",
   "metadata": {},
   "outputs": [
    {
     "name": "stdout",
     "output_type": "stream",
     "text": [
      "Prediction: np.argmax(y_hat) = 0\n",
      "Target Label: np.argmax(yi) = 9\n",
      "mse(y_hat, yi) = 0.94521046491435\n"
     ]
    }
   ],
   "source": [
    "def forward_pass(W, B, xi, predict_vector = False):\n",
    "    Z = [[0.0]]\n",
    "    A = [xi]\n",
    "    L = len(W) - 1\n",
    "    for i in range(1, L + 1):\n",
    "        z = W[i] @ A[i-1] + B[i]\n",
    "        Z.append(z)\n",
    "        \n",
    "        a = sigmoid(z)\n",
    "        A.append(a)\n",
    "        \n",
    "    if predict_vector == False:\n",
    "        return Z, A\n",
    "    else:\n",
    "        return A[-1]\n",
    "\n",
    "def predict(W, B, xi):\n",
    "    _, A = forward_pass(W, B, xi)\n",
    "    return np.argmax(A[-1])\n",
    "\n",
    "# testing the function on a random data point\n",
    "y_hat = forward_pass(W, B, flttrain_X[90], predict_vector=True)\n",
    "print(f\"Prediction: np.argmax(y_hat) = {np.argmax(y_hat)}\")\n",
    "print(f\"Target Label: np.argmax(yi) = {np.argmax(yi)}\")\n",
    "print(f\"mse(y_hat, yi) = {mse(y_hat, yi)}\")"
   ]
  },
  {
   "cell_type": "markdown",
   "id": "a786a79f-42af-4f05-a65f-d1c97e22a29a",
   "metadata": {},
   "source": [
    "Here we define a random experiemnt function, showing us how the model performs before training. We can observe that the MSE is pretty high (approx. 1) and the prediction is often incorrect."
   ]
  },
  {
   "cell_type": "code",
   "execution_count": 39,
   "id": "a8f0528d-7535-4f91-88c3-4ca47f62c85e",
   "metadata": {},
   "outputs": [
    {
     "name": "stdout",
     "output_type": "stream",
     "text": [
      "MSE(W, B, flttrain_X, ohtrain_y) = 0.9989916141185424 \n",
      "\n",
      "Actual label: 4\n",
      "Predicted label: 0\n"
     ]
    }
   ],
   "source": [
    "def random_experiment(W, B, data_features, data_labels):\n",
    "    i = np.random.randint(len(data_features))\n",
    "    print(f\"Actual label: {np.argmax(data_labels[i])}\")\n",
    "    print(f\"Predicted label: {predict(W, B, data_features[i])}\")\n",
    "\n",
    "print(f\"MSE(W, B, flttrain_X, ohtrain_y) = {MSE(W, B, flttrain_X, ohtrain_y)} \\n\")\n",
    "\n",
    "random_experiment(W, B, flttrain_X, ohtrain_y)"
   ]
  },
  {
   "cell_type": "markdown",
   "id": "a93da73b-5440-454b-a606-2ce5f9287427",
   "metadata": {},
   "source": [
    "This code defines a `Neural_Network` class that implements a feedforward neural network with backpropagation and stochastic gradient descent for training. Upon initialization, the network's architecture is defined through the `layers` list (defaulting to `[784, 60, 60, 10]`, corresponding to an input layer for 28×28 images, two hidden layers, and an output layer with 10 classes), and weights and biases are initialized using the `initialize_weights` function. The `train` method carries out the learning process over a given number of epochs by iterating through all training examples one by one. For each example, it performs a forward pass to compute the activations and preactivations at each layer, then applies backpropagation to compute the gradients (deltas) of the loss with respect to the weights and biases. The network parameters are then updated using gradient descent. The training progress is tracked using the mean squared error (MSE), which is printed at the beginning and end of each epoch and stored in the `errors_` attribute."
   ]
  },
  {
   "cell_type": "code",
   "execution_count": 45,
   "id": "39c85ff4-8ef6-4305-bcb4-d5753212bb62",
   "metadata": {},
   "outputs": [],
   "source": [
    "class Neural_Network(object):\n",
    "    def __init__(self, layers = [784, 60, 60, 10]):\n",
    "        self.layers = layers\n",
    "        self.W, self.B = initialize_weights(layers = self.layers)\n",
    "\n",
    "    def train(self, X_train, y_train, learning_rate = 0.046, epochs = 4):\n",
    "        # Prints initial mean squared error\n",
    "        self.errors_ = [MSE(self.W, self.B, X_train, y_train)]\n",
    "        print(f\"Starting Cost = {self.errors_[0]}\")\n",
    "        sample_size = len(X_train)\n",
    "\n",
    "        # Finds number layers, excluding first\n",
    "        L = len(self.layers) - 1\n",
    "\n",
    "        # For each epoch perform stochastic gradient descent. \n",
    "        for k in range(epochs):\n",
    "            # Loop over each (xi, yi) training pair of data.\n",
    "            for xi, yi in zip(X_train, y_train):\n",
    "                # Use the forward pass function defined before\n",
    "                # and find the preactivation and postactivation values.\n",
    "                Z, A = forward_pass(self.W, self.B, xi)\n",
    "\n",
    "                deltas = dict()\n",
    "\n",
    "                # Compute output error \n",
    "                output_error = (A[L] - yi)*sigmoid_prime(Z[L])\n",
    "                deltas[L] = output_error\n",
    "\n",
    "                # Loop from L-1 to 1 \n",
    "                for i in range(L-1, 0, -1):\n",
    "                    # Compute the node errors at each hidden layer\n",
    "                    deltas[i] = (self.W[i+1].T @ deltas[i+1])*sigmoid_prime(Z[i])\n",
    "\n",
    "                # Loops over intermediary layers and output layer to perform gradient descent\n",
    "                for i in range(1, L+1):\n",
    "                    self.W[i] -= learning_rate*deltas[i] @ A[i-1].T\n",
    "                    self.B[i] -= learning_rate*deltas[i]\n",
    "\n",
    "            # Shows cost over all training examples\n",
    "            self.errors_.append(MSE(self.W, self.B, X_train, y_train))   \n",
    "            print(f\"{k + 1}-Epoch Cost = {self.errors_[-1]}\")   \n",
    "\n",
    "    def predict(self, xi):\n",
    "        depth = len(self.layers)\n",
    "        _, A = forward_pass(self.W, self.B, xi)\n",
    "        return np.argmax(A[-1])"
   ]
  },
  {
   "cell_type": "markdown",
   "id": "f86c3756-ceea-46b4-8a61-93c71b34cb00",
   "metadata": {},
   "source": [
    "## Part 3: Testing the Model"
   ]
  },
  {
   "cell_type": "code",
   "execution_count": 43,
   "id": "185bd169-dc42-40c5-b2dd-090eae68da70",
   "metadata": {},
   "outputs": [
    {
     "name": "stdout",
     "output_type": "stream",
     "text": [
      "MSE(net.W, net.B, flttrain_X, ohtrain_y) = 1.172126964860269 \n",
      "\n",
      "predicted digit is: 5\n",
      "actual digit is: 9\n"
     ]
    },
    {
     "data": {
      "image/png": "[encoded data removed]",
      "text/plain": [
       "<Figure size 800x800 with 1 Axes>"
      ]
     },
     "metadata": {},
     "output_type": "display_data"
    }
   ],
   "source": [
    "# Initialize a network with 784 input nodes, two hidden layers with 60 nodes each \n",
    "# and a output layer with 10 nodes. \n",
    "net = DenseNetwork(layers = [784, 60, 60, 10])\n",
    "\n",
    "# Check the mean squared error before training \n",
    "print(f\"MSE(net.W, net.B, flttrain_X, ohtrain_y) = {MSE(net.W, net.B, flttrain_X, ohtrain_y)} \\n\")\n",
    "\n",
    "# Make a random prediction before training\n",
    "i = np.random.randint(0, len(flttest_X))\n",
    "prediction = net.predict(flttest_X[i])\n",
    "print(f\"predicted digit is: {prediction}\")\n",
    "print(f\"actual digit is: {np.argmax(ohtest_y[i])}\")\n",
    "plt.figure(figsize=(8, 8))\n",
    "plt.imshow(test_X[i], cmap=\"gray\")\n",
    "plt.show()"
   ]
  },
  {
   "cell_type": "markdown",
   "id": "e6dfbbc9-5531-488b-81dd-b48207f53d9c",
   "metadata": {},
   "source": [
    "As shown above, the model performs fairly poorly before training. So, we will train it and and examine how this affects our results."
   ]
  },
  {
   "cell_type": "code",
   "execution_count": 44,
   "id": "ca1641a0-44e5-4405-b383-98f6d5fa1c12",
   "metadata": {},
   "outputs": [
    {
     "name": "stdout",
     "output_type": "stream",
     "text": [
      "Starting Cost = 1.172126964860269\n",
      "1-Epoch Cost = 0.12087224818910264\n",
      "2-Epoch Cost = 0.10655795984426115\n",
      "3-Epoch Cost = 0.09846487211839249\n",
      "4-Epoch Cost = 0.09391028630562377\n"
     ]
    }
   ],
   "source": [
    "net.train(flttrain_X, ohtrain_y)"
   ]
  },
  {
   "cell_type": "markdown",
   "id": "5de43ec4-491e-4be2-9cab-52d7e505d1bc",
   "metadata": {},
   "source": [
    "Clearly, there is a steep decline in the error once training begins, and smaller reductions after the 2nd and 3rd epochs, as the model becomes more refined."
   ]
  },
  {
   "cell_type": "code",
   "execution_count": 46,
   "id": "e2a68a1d-6b9f-47cb-b460-7103e3fbd9e9",
   "metadata": {},
   "outputs": [
    {
     "data": {
      "image/png": "[encoded data removed]",
      "text/plain": [
       "<Figure size 1000x800 with 1 Axes>"
      ]
     },
     "metadata": {},
     "output_type": "display_data"
    }
   ],
   "source": [
    "plt.figure(figsize = (10, 8))\n",
    "epochs = range(len(net.errors_))\n",
    "plt.plot(epochs, net.errors_, marker = \"o\")\n",
    "plt.xticks(epochs)\n",
    "plt.xlabel(\"epochs\")\n",
    "plt.ylabel(\"Mean Squared Error\")\n",
    "plt.title(\"Network MSE During Training\", fontsize = 16)\n",
    "plt.show()"
   ]
  },
  {
   "cell_type": "code",
   "execution_count": 48,
   "id": "4b0625ac-2b98-48c7-83ef-ed50c6ed9ad0",
   "metadata": {},
   "outputs": [
    {
     "data": {
      "text/plain": [
       "0.8547"
      ]
     },
     "execution_count": 48,
     "metadata": {},
     "output_type": "execute_result"
    }
   ],
   "source": [
    "sum([int(net.predict(x) == y) for x, y in zip(flttest_X, test_y)])/len(ohtest_y)"
   ]
  },
  {
   "cell_type": "markdown",
   "id": "fa857bb5-5478-4f44-b1ff-c4ebbad2e67b",
   "metadata": {},
   "source": [
    "### Conclusion\n",
    "\n",
    "The model has a classification accuracy of 0.8547, or appoximately 85%. This shows that the predictions are certainly not random, but leaves room for improvement. One potential area for improvement is the activation function. Perhaps a RELU or tanh function would have more cleanly classified the data. However, this lower accuracy is not suprising as classifying these images is quite difficult due to their lack of detail, yet variety of possibilties (i.e., even with a better activation function, the model may always struggle to differentiate between a t-shirt (index of 0) and a shirt (index of 6)). Despite this, we can see the advantages of this model in its customizability and ability to take large amounts of data as inputs."
   ]
  },
  {
   "cell_type": "code",
   "execution_count": null,
   "id": "539bad6d-e906-4114-8ab7-8188be77705d",
   "metadata": {},
   "outputs": [],
   "source": []
  }
 ],
 "metadata": {
  "kernelspec": {
   "display_name": "Python [conda env:base] *",
   "language": "python",
   "name": "conda-base-py"
  },
  "language_info": {
   "codemirror_mode": {
    "name": "ipython",
    "version": 3
   },
   "file_extension": ".py",
   "mimetype": "text/x-python",
   "name": "python",
   "nbconvert_exporter": "python",
   "pygments_lexer": "ipython3",
   "version": "3.12.7"
  }
 },
 "nbformat": 4,
 "nbformat_minor": 5
}
